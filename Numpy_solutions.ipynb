{
  "nbformat": 4,
  "nbformat_minor": 0,
  "metadata": {
    "colab": {
      "provenance": [],
      "authorship_tag": "ABX9TyNnWgh8eJwq9fgmfYRsTOGQ",
      "include_colab_link": true
    },
    "kernelspec": {
      "name": "python3",
      "display_name": "Python 3"
    },
    "language_info": {
      "name": "python"
    }
  },
  "cells": [
    {
      "cell_type": "markdown",
      "metadata": {
        "id": "view-in-github",
        "colab_type": "text"
      },
      "source": [
        "<a href=\"https://colab.research.google.com/github/Vukki09/cloud_repo/blob/master/Numpy_solutions.ipynb\" target=\"_parent\"><img src=\"https://colab.research.google.com/assets/colab-badge.svg\" alt=\"Open In Colab\"/></a>"
      ]
    },
    {
      "cell_type": "code",
      "execution_count": 2,
      "metadata": {
        "colab": {
          "base_uri": "https://localhost:8080/"
        },
        "id": "A-Nr53JWg_hX",
        "outputId": "34702b18-3ecf-4baf-fac7-c95ba7172e8a"
      },
      "outputs": [
        {
          "output_type": "stream",
          "name": "stdout",
          "text": [
            "[0. 0. 0. 0. 0. 0. 0. 0. 0. 0.]\n"
          ]
        }
      ],
      "source": [
        "import numpy as np\n",
        "#b\n",
        "b=np.zeros(10)\n",
        "print(b)"
      ]
    },
    {
      "cell_type": "code",
      "source": [
        "#c\n",
        "d=np.ones(10)\n",
        "print(d)"
      ],
      "metadata": {
        "colab": {
          "base_uri": "https://localhost:8080/"
        },
        "id": "WEilWVLdnrZD",
        "outputId": "f624298b-f1c8-4941-fc44-c4386af52ff5"
      },
      "execution_count": 12,
      "outputs": [
        {
          "output_type": "stream",
          "name": "stdout",
          "text": [
            "[1. 1. 1. 1. 1. 1. 1. 1. 1. 1.]\n"
          ]
        }
      ]
    },
    {
      "cell_type": "code",
      "source": [
        "#d\n",
        "t=np.ones(10)*5\n",
        "print(t)"
      ],
      "metadata": {
        "colab": {
          "base_uri": "https://localhost:8080/"
        },
        "id": "M1VAXBpBoFvW",
        "outputId": "60bd6bf2-5725-470f-b7ab-e36ff4cdcdc2"
      },
      "execution_count": 11,
      "outputs": [
        {
          "output_type": "stream",
          "name": "stdout",
          "text": [
            "[5. 5. 5. 5. 5. 5. 5. 5. 5. 5.]\n"
          ]
        }
      ]
    },
    {
      "cell_type": "code",
      "source": [
        "#e\n",
        "q=np.arange(10,50)\n",
        "print(q)"
      ],
      "metadata": {
        "colab": {
          "base_uri": "https://localhost:8080/"
        },
        "id": "F63DEedhXgb4",
        "outputId": "4a1b6f11-ba5c-48c5-95f6-c7b9b71c9818"
      },
      "execution_count": 7,
      "outputs": [
        {
          "output_type": "stream",
          "name": "stdout",
          "text": [
            "[10 11 12 13 14 15 16 17 18 19 20 21 22 23 24 25 26 27 28 29 30 31 32 33\n",
            " 34 35 36 37 38 39 40 41 42 43 44 45 46 47 48 49]\n"
          ]
        }
      ]
    },
    {
      "cell_type": "code",
      "source": [
        "#f\n",
        "w=np.arange(10,50,2)\n",
        "print(w)"
      ],
      "metadata": {
        "colab": {
          "base_uri": "https://localhost:8080/"
        },
        "id": "3v1SKpdo8Rm5",
        "outputId": "dddc19a4-f55f-49cf-8348-7bf00ba92f12"
      },
      "execution_count": 6,
      "outputs": [
        {
          "output_type": "stream",
          "name": "stdout",
          "text": [
            "[10 12 14 16 18 20 22 24 26 28 30 32 34 36 38 40 42 44 46 48]\n"
          ]
        }
      ]
    },
    {
      "cell_type": "code",
      "source": [
        "#g Создать матрицу 3х3 с числами от 0 до 8\n",
        "s=np.linspace(0,8,9)\n",
        "p=s.reshape(3, 3)\n",
        "print(p)\n",
        "\n"
      ],
      "metadata": {
        "colab": {
          "base_uri": "https://localhost:8080/"
        },
        "id": "lXNqiQfQcP8f",
        "outputId": "cdd32bd3-8a6f-4788-d901-4666d9433a6e"
      },
      "execution_count": 39,
      "outputs": [
        {
          "output_type": "stream",
          "name": "stdout",
          "text": [
            "[[0. 1. 2.]\n",
            " [3. 4. 5.]\n",
            " [6. 7. 8.]]\n"
          ]
        }
      ]
    },
    {
      "cell_type": "code",
      "source": [
        "#h Создать единичную матрицу 3x3\n",
        "l=np.eye(3)\n",
        "print(l)\n"
      ],
      "metadata": {
        "colab": {
          "base_uri": "https://localhost:8080/"
        },
        "id": "vjtjyOaMcak5",
        "outputId": "c378a4fa-704b-446d-d5c8-551316a93235"
      },
      "execution_count": 19,
      "outputs": [
        {
          "output_type": "stream",
          "name": "stdout",
          "text": [
            "[[1. 0. 0.]\n",
            " [0. 1. 0.]\n",
            " [0. 0. 1.]]\n"
          ]
        }
      ]
    },
    {
      "cell_type": "code",
      "source": [
        "#i Используйте NumPy для генерации случайного числа от 0 до 1\n",
        "m=np.random.rand()\n",
        "print(m)\n"
      ],
      "metadata": {
        "colab": {
          "base_uri": "https://localhost:8080/"
        },
        "id": "5_FEWB3BhXNF",
        "outputId": "133a3e06-6fb3-474a-ac30-aec95061b7b4"
      },
      "execution_count": 23,
      "outputs": [
        {
          "output_type": "stream",
          "name": "stdout",
          "text": [
            "0.7067726901647046\n"
          ]
        }
      ]
    },
    {
      "cell_type": "code",
      "source": [
        "#j Используйте NumPy для генерации массива из 25 случайных чисел,взятых из стандартного нормального распределения\n",
        "z=np.random.randn(25)\n",
        "print(z)"
      ],
      "metadata": {
        "colab": {
          "base_uri": "https://localhost:8080/"
        },
        "id": "7iXtBnESlxP8",
        "outputId": "26087426-028a-4401-e301-a3c2695a13b0"
      },
      "execution_count": 26,
      "outputs": [
        {
          "output_type": "stream",
          "name": "stdout",
          "text": [
            "[ 1.04571869 -1.90457539  0.74490202  0.00924838 -0.87215687 -0.48760245\n",
            " -1.2153268   0.12841947  0.509773    0.68846968 -1.43842772  0.51086727\n",
            " -0.48896594 -0.11818018 -2.51049151  0.42503245 -0.38061986  3.46194027\n",
            " -0.60583365 -0.53885876 -0.84041814 -0.07063665 -0.35382325 -0.4790658\n",
            " -0.38118295]\n"
          ]
        }
      ]
    },
    {
      "cell_type": "code",
      "source": [
        "#k Создайте следующую матрицу используя функции библиотеки NumPy\n",
        "s=np.linspace(0.01,1,100)\n",
        "print(s.reshape(10,10))"
      ],
      "metadata": {
        "colab": {
          "base_uri": "https://localhost:8080/"
        },
        "id": "6aXglUVso3XV",
        "outputId": "44f5c745-fbf1-48f3-b3bd-c8bbdaabe594"
      },
      "execution_count": 45,
      "outputs": [
        {
          "output_type": "stream",
          "name": "stdout",
          "text": [
            "[[0.01 0.02 0.03 0.04 0.05 0.06 0.07 0.08 0.09 0.1 ]\n",
            " [0.11 0.12 0.13 0.14 0.15 0.16 0.17 0.18 0.19 0.2 ]\n",
            " [0.21 0.22 0.23 0.24 0.25 0.26 0.27 0.28 0.29 0.3 ]\n",
            " [0.31 0.32 0.33 0.34 0.35 0.36 0.37 0.38 0.39 0.4 ]\n",
            " [0.41 0.42 0.43 0.44 0.45 0.46 0.47 0.48 0.49 0.5 ]\n",
            " [0.51 0.52 0.53 0.54 0.55 0.56 0.57 0.58 0.59 0.6 ]\n",
            " [0.61 0.62 0.63 0.64 0.65 0.66 0.67 0.68 0.69 0.7 ]\n",
            " [0.71 0.72 0.73 0.74 0.75 0.76 0.77 0.78 0.79 0.8 ]\n",
            " [0.81 0.82 0.83 0.84 0.85 0.86 0.87 0.88 0.89 0.9 ]\n",
            " [0.91 0.92 0.93 0.94 0.95 0.96 0.97 0.98 0.99 1.  ]]\n"
          ]
        }
      ]
    },
    {
      "cell_type": "code",
      "source": [
        "#l\n",
        "mat = np.arange(1,26).reshape(5,5)\n",
        "print([mat])\n"
      ],
      "metadata": {
        "colab": {
          "base_uri": "https://localhost:8080/"
        },
        "id": "lqFftNOiswnz",
        "outputId": "15675fae-3d91-45a8-d1f2-43d04216880e"
      },
      "execution_count": 3,
      "outputs": [
        {
          "output_type": "stream",
          "name": "stdout",
          "text": [
            "[array([[ 1,  2,  3,  4,  5],\n",
            "       [ 6,  7,  8,  9, 10],\n",
            "       [11, 12, 13, 14, 15],\n",
            "       [16, 17, 18, 19, 20],\n",
            "       [21, 22, 23, 24, 25]])]\n"
          ]
        }
      ]
    },
    {
      "cell_type": "code",
      "source": [
        "y=mat[2:, [1,2,3,4]]\n",
        "print([y])"
      ],
      "metadata": {
        "colab": {
          "base_uri": "https://localhost:8080/"
        },
        "id": "3CxiwH9p7jzS",
        "outputId": "e9f6b444-3c6f-40ee-b591-a8c1ca3cff3f"
      },
      "execution_count": 105,
      "outputs": [
        {
          "output_type": "stream",
          "name": "stdout",
          "text": [
            "[array([[12, 13, 14, 15],\n",
            "       [17, 18, 19, 20],\n",
            "       [22, 23, 24, 25]])]\n"
          ]
        }
      ]
    },
    {
      "cell_type": "code",
      "source": [
        "#m Написать код обращения к элементу который вернет значение  20 изстартовой матрицы задачи l\n",
        "print(mat[3][4])\n"
      ],
      "metadata": {
        "colab": {
          "base_uri": "https://localhost:8080/"
        },
        "id": "s9XLEy5iUDNQ",
        "outputId": "d2fa7f41-3e62-4a26-9461-8c3c948681c5"
      },
      "execution_count": 91,
      "outputs": [
        {
          "output_type": "stream",
          "name": "stdout",
          "text": [
            "20\n"
          ]
        }
      ]
    },
    {
      "cell_type": "code",
      "source": [
        "#n\n",
        "y=mat[0:3, [1]]\n",
        "print([y])"
      ],
      "metadata": {
        "colab": {
          "base_uri": "https://localhost:8080/"
        },
        "id": "DHsh823MU1Fy",
        "outputId": "d986361b-03fc-460d-d2ac-6d3c3f6ac2c8"
      },
      "execution_count": 9,
      "outputs": [
        {
          "output_type": "stream",
          "name": "stdout",
          "text": [
            "[array([[ 2],\n",
            "       [ 7],\n",
            "       [12]])]\n"
          ]
        }
      ]
    },
    {
      "cell_type": "code",
      "source": [
        "#o\n",
        "y=mat[4:]\n",
        "print([y])"
      ],
      "metadata": {
        "colab": {
          "base_uri": "https://localhost:8080/"
        },
        "id": "U_UFDytLVXfU",
        "outputId": "d274a405-2e28-440e-f269-4611553875ab"
      },
      "execution_count": 10,
      "outputs": [
        {
          "output_type": "stream",
          "name": "stdout",
          "text": [
            "[array([[21, 22, 23, 24, 25]])]\n"
          ]
        }
      ]
    },
    {
      "cell_type": "code",
      "source": [
        "#p\n",
        "y=mat[3:]\n",
        "print([y])"
      ],
      "metadata": {
        "colab": {
          "base_uri": "https://localhost:8080/"
        },
        "id": "jvHWB4W_c0fj",
        "outputId": "9d281ee6-b4eb-4111-f235-7d7003e70493"
      },
      "execution_count": 11,
      "outputs": [
        {
          "output_type": "stream",
          "name": "stdout",
          "text": [
            "[array([[16, 17, 18, 19, 20],\n",
            "       [21, 22, 23, 24, 25]])]\n"
          ]
        }
      ]
    },
    {
      "cell_type": "code",
      "source": [
        "#q\n",
        "print(mat.sum())"
      ],
      "metadata": {
        "colab": {
          "base_uri": "https://localhost:8080/"
        },
        "id": "SA7WukJ1aCCN",
        "outputId": "8aa43aa6-49e0-4889-8cfa-a16fc1e3f137"
      },
      "execution_count": 12,
      "outputs": [
        {
          "output_type": "stream",
          "name": "stdout",
          "text": [
            "325\n"
          ]
        }
      ]
    },
    {
      "cell_type": "code",
      "source": [
        "#r\n",
        "print(mat.std())\n"
      ],
      "metadata": {
        "colab": {
          "base_uri": "https://localhost:8080/"
        },
        "id": "Kgb73ksqd3A9",
        "outputId": "5a8577b0-7546-4bf0-d357-52d7f4414c61"
      },
      "execution_count": 15,
      "outputs": [
        {
          "output_type": "stream",
          "name": "stdout",
          "text": [
            "7.211102550927978\n"
          ]
        }
      ]
    },
    {
      "cell_type": "code",
      "source": [
        "#s\n",
        "print(mat.sum(axis=0))"
      ],
      "metadata": {
        "colab": {
          "base_uri": "https://localhost:8080/"
        },
        "id": "TzU1FffF6Bbp",
        "outputId": "251eca06-32b3-462c-9dd5-830a64ad4ab9"
      },
      "execution_count": 13,
      "outputs": [
        {
          "output_type": "stream",
          "name": "stdout",
          "text": [
            "[55 60 65 70 75]\n"
          ]
        }
      ]
    }
  ]
}